{
 "cells": [
  {
   "cell_type": "code",
   "execution_count": 21,
   "metadata": {},
   "outputs": [],
   "source": [
    "import cv2\n",
    "import matplotlib.pyplot as plt\n",
    "import pathlib\n",
    "import os\n",
    "from PIL import Image\n",
    "from torchvision.transforms import ToTensor"
   ]
  },
  {
   "cell_type": "code",
   "execution_count": 28,
   "metadata": {},
   "outputs": [],
   "source": [
    "img = cv2.imread('data/INGT103E_00001.jpg')"
   ]
  },
  {
   "cell_type": "code",
   "execution_count": 13,
   "metadata": {},
   "outputs": [
    {
     "data": {
      "text/plain": [
       "<matplotlib.image.AxesImage at 0x201ee2c5eb0>"
      ]
     },
     "execution_count": 13,
     "metadata": {},
     "output_type": "execute_result"
    },
    {
     "data": {
      "image/png": "[encoded data removed]",
      "text/plain": [
       "<Figure size 432x288 with 1 Axes>"
      ]
     },
     "metadata": {
      "needs_background": "light"
     },
     "output_type": "display_data"
    }
   ],
   "source": [
    "plt.imshow(cv2.resize(img, (94, 24)))"
   ]
  },
  {
   "cell_type": "code",
   "execution_count": 11,
   "metadata": {},
   "outputs": [
    {
     "data": {
      "text/plain": [
       "(62, 278, 3)"
      ]
     },
     "execution_count": 11,
     "metadata": {},
     "output_type": "execute_result"
    }
   ],
   "source": [
    "img.shape"
   ]
  },
  {
   "cell_type": "code",
   "execution_count": 29,
   "metadata": {},
   "outputs": [],
   "source": [
    "img = cv2.resize(img, (94, 24))"
   ]
  },
  {
   "cell_type": "code",
   "execution_count": 30,
   "metadata": {},
   "outputs": [],
   "source": [
    "for i in range(200):\n",
    "    cv2.imwrite(f'data/INGT103E_{i:05}.jpg', img)"
   ]
  },
  {
   "cell_type": "code",
   "execution_count": 15,
   "metadata": {},
   "outputs": [],
   "source": [
    "from torch.utils.data import Dataset, DataLoader"
   ]
  },
  {
   "cell_type": "code",
   "execution_count": 31,
   "metadata": {},
   "outputs": [],
   "source": [
    "class LicensePlateDataset(Dataset):\n",
    "    def __init__(self, path) -> None:\n",
    "        super().__init__()\n",
    "        self.path = pathlib.Path(path)\n",
    "        self.imgs = list(self.path.iterdir())\n",
    "\n",
    "    def __len__(self):\n",
    "        return len(self.imgs)\n",
    "\n",
    "    def __getitem__(self, index):\n",
    "        img = Image.open(self.imgs[index])\n",
    "        img = ToTensor()(img)\n",
    "        label = self.imgs[index].stem.split('_')[0]\n",
    "\n",
    "        return img, label"
   ]
  },
  {
   "cell_type": "code",
   "execution_count": 32,
   "metadata": {},
   "outputs": [
    {
     "data": {
      "text/plain": [
       "(torch.Size([3, 24, 94]), 'INGT103E')"
      ]
     },
     "execution_count": 32,
     "metadata": {},
     "output_type": "execute_result"
    }
   ],
   "source": [
    "lpd = LicensePlateDataset('data')\n",
    "img, label = next(iter(lpd))\n",
    "img.size(), label"
   ]
  },
  {
   "cell_type": "code",
   "execution_count": 6,
   "metadata": {},
   "outputs": [],
   "source": [
    "from pathlib import Path\n",
    "\n",
    "\n",
    "for file in Path('data').iterdir():\n",
    "    if '.' in file.name:\n",
    "        # print(file.name)\n",
    "        # print(Path('data') / f'{file.name[:-4].replace(\".\", \"\")}.jpg')\n",
    "        try:\n",
    "            file.rename(Path('data') / f'{file.name[:-4].replace(\".\", \"\")}.jpg')\n",
    "        except FileExistsError:\n",
    "            file.unlink()"
   ]
  },
  {
   "cell_type": "code",
   "execution_count": 28,
   "metadata": {},
   "outputs": [],
   "source": [
    "from PIL import Image\n",
    "import cv2\n",
    "import matplotlib.pyplot as plt\n",
    "import numpy as np"
   ]
  },
  {
   "cell_type": "code",
   "execution_count": 58,
   "metadata": {},
   "outputs": [
    {
     "data": {
      "text/plain": [
       "<matplotlib.image.AxesImage at 0x257eeca09a0>"
      ]
     },
     "execution_count": 58,
     "metadata": {},
     "output_type": "execute_result"
    },
    {
     "data": {
      "image/png": "[encoded data removed]",
      "text/plain": [
       "<Figure size 432x288 with 1 Axes>"
      ]
     },
     "metadata": {
      "needs_background": "light"
     },
     "output_type": "display_data"
    }
   ],
   "source": [
    "img = Image.open(r\"C:\\Users\\fnowo\\Downloads\\license_plate_template_de.png\")\n",
    "img = cv2.imread(r\"C:\\Users\\fnowo\\Downloads\\license_plate_template_de.png\")\n",
    "height_range = (7, 42)\n",
    "locs = [\n",
    "    (25, 46),\n",
    "    (46, 67),\n",
    "    (93, 113),\n",
    "    (115, 134),\n",
    "    (144, 163),\n",
    "    (165, 184),\n",
    "    (186, 205),\n",
    "    (207, 226),\n",
    "]\n",
    "img[7:42, 25:67, :] = np.ones((35, 42, 3)) * 255\n",
    "img[7:42, 93:135, :] = np.ones((35, 42, 3)) * 255\n",
    "img[7:42, 144:226, :] = np.ones((35, 82, 3)) * 255\n",
    "plt.imshow(img)"
   ]
  },
  {
   "cell_type": "code",
   "execution_count": 59,
   "metadata": {},
   "outputs": [
    {
     "data": {
      "text/plain": [
       "True"
      ]
     },
     "execution_count": 59,
     "metadata": {},
     "output_type": "execute_result"
    }
   ],
   "source": [
    "cv2.imwrite(r'C:\\Users\\fnowo\\Desktop\\#Projects\\lprnet\\templates\\template_d_white.jpg', img)"
   ]
  },
  {
   "cell_type": "code",
   "execution_count": null,
   "metadata": {},
   "outputs": [],
   "source": []
  },
  {
   "cell_type": "code",
   "execution_count": null,
   "metadata": {},
   "outputs": [],
   "source": []
  },
  {
   "cell_type": "code",
   "execution_count": 99,
   "metadata": {},
   "outputs": [],
   "source": [
    "from PIL import Image, ImageFont, ImageDraw\n",
    "import random\n",
    "import numpy as np"
   ]
  },
  {
   "cell_type": "code",
   "execution_count": 154,
   "metadata": {},
   "outputs": [
    {
     "data": {
      "text/plain": [
       "37"
      ]
     },
     "execution_count": 154,
     "metadata": {},
     "output_type": "execute_result"
    }
   ],
   "source": [
    "CHARS = [\n",
    "    '0', '1', '2', '3', '4', '5', '6', '7', '8', '9',\n",
    "    'A', 'B', 'C', 'D', 'E', 'F', 'G', 'H', 'I', 'J', \n",
    "    'K', 'L', 'M', 'N', 'O', 'P', 'Q', 'R', 'S', 'T', \n",
    "    'U', 'V', 'W', 'X', 'Y', 'Z', ' '\n",
    "]\n",
    "\n",
    "# weights = [1 for ch in CHARS]\n",
    "# weights[-1] = 2\n",
    "\n",
    "locs = [\n",
    "    (25, 46),\n",
    "    (46, 67),\n",
    "    (93, 113),\n",
    "    (115, 134),\n",
    "    (144, 163),\n",
    "    (165, 184),\n",
    "    (186, 205),\n",
    "    (207, 226),\n",
    "]\n",
    "len(CHARS)"
   ]
  },
  {
   "cell_type": "code",
   "execution_count": 151,
   "metadata": {},
   "outputs": [],
   "source": [
    "font = ImageFont.truetype(r\"C:\\Users\\fnowo\\Desktop\\#Projects\\lprnet\\templates\\FE Mittelschrift Regular\\FE Mittelschrift Regular.otf\", 42)"
   ]
  },
  {
   "cell_type": "code",
   "execution_count": 156,
   "metadata": {},
   "outputs": [],
   "source": [
    "dataset_path = Path(r'C:\\Users\\fnowo\\Desktop\\#Projects\\lprnet\\generated_dataset\\test')\n",
    "\n",
    "for i in range(2000):\n",
    "    img = Image.open(r'C:\\Users\\fnowo\\Desktop\\#Projects\\lprnet\\templates\\template_d_white.jpg')\n",
    "    # text = np.ones()\n",
    "    text = random.choices(CHARS, k=8)#, weights=weights)\n",
    "    # for let in text:\n",
    "    #     CHARS.remove(let)\n",
    "    draw = ImageDraw.Draw(img)\n",
    "    draw.text((locs[0][0], 6), text[0], font=font, fill=(0, 0, 0))\n",
    "    draw.text((locs[1][0], 6), text[1], font=font, fill=(0, 0, 0))\n",
    "    draw.text((locs[2][0], 6), text[2], font=font, fill=(0, 0, 0))\n",
    "    draw.text((locs[3][0], 6), text[3], font=font, fill=(0, 0, 0))\n",
    "    draw.text((locs[4][0], 6), text[4], font=font, fill=(0, 0, 0))\n",
    "    draw.text((locs[5][0], 6), text[5], font=font, fill=(0, 0, 0))\n",
    "    draw.text((locs[6][0], 6), text[6], font=font, fill=(0, 0, 0))\n",
    "    draw.text((locs[7][0], 6), text[7], font=font, fill=(0, 0, 0))\n",
    "    text = [ch for ch in text if ch != ' ']\n",
    "    file_name = f'{\"\".join(text)}_{i:05d}.jpg'\n",
    "    file_path = dataset_path / file_name\n",
    "    img.save(file_path)\n",
    "\n",
    "# plt.imshow(img)\n"
   ]
  },
  {
   "cell_type": "code",
   "execution_count": 153,
   "metadata": {},
   "outputs": [
    {
     "data": {
      "text/plain": [
       "<matplotlib.image.AxesImage at 0x257f0848190>"
      ]
     },
     "execution_count": 153,
     "metadata": {},
     "output_type": "execute_result"
    },
    {
     "data": {
      "image/png": "[encoded data removed]",
      "text/plain": [
       "<Figure size 432x288 with 1 Axes>"
      ]
     },
     "metadata": {
      "needs_background": "light"
     },
     "output_type": "display_data"
    }
   ],
   "source": [
    "im = Image.open(r\"C:\\Users\\fnowo\\Downloads\\license_plate_template_de.png\")\n",
    "plt.imshow(im)"
   ]
  },
  {
   "cell_type": "code",
   "execution_count": 118,
   "metadata": {},
   "outputs": [
    {
     "name": "stdout",
     "output_type": "stream",
     "text": [
      "['K', 'M', 'A', 'D', '1', 'B', '4', ' ']\n",
      "['C', '1', 'D', 'G', 'J', 'K', 'N', 'N']\n",
      "['T', '5', 'Q', '9', '1', 'G', 'Q', 'Q']\n",
      "['9', 'M', 'W', '2', '7', 'W', '5', 'U']\n",
      "['D', 'L', 'B', 'R', 'O', 'G', 'K', 'N']\n",
      "['E', '3', 'I', '7', '0', '0', ' ', 'C']\n",
      "['F', '7', 'M', 'F', 'J', 'D', 'N', 'F']\n",
      "['1', 'G', '5', '5', 'B', 'Y', '4', 'O']\n",
      "['B', 'R', '3', '5', 'B', 'W', 'N', 'O']\n",
      "['L', ' ', 'J', 'P', 'F', 'D', 'W', 'R']\n",
      "['0', 'F', 'P', ' ', '0', '9', '8', 'J']\n",
      "['R', 'G', 'U', 'F', 'C', 'J', '3', ' ']\n",
      "['F', 'B', 'O', 'I', '1', 'X', 'H', 'T']\n",
      "[' ', 'J', 'W', ' ', '6', 'V', 'V', 'Z']\n",
      "['D', 'M', 'K', 'F', 'M', '2', 'R', 'A']\n",
      "['S', 'S', '1', 'C', 'I', 'P', 'Q', 'I']\n",
      "['8', 'V', 'U', 'S', 'Q', ' ', 'J', ' ']\n",
      "['L', 'K', 'R', 'J', 'G', 'H', 'G', 'R']\n",
      "['D', '3', ' ', 'D', 'Q', 'K', '4', 'W']\n",
      "['Y', 'D', '1', 'U', 'X', 'E', '7', '1']\n"
     ]
    }
   ],
   "source": [
    "for i in range(20):\n",
    "    print(random.choices(CHARS, k=8, weights=weights))\n"
   ]
  },
  {
   "cell_type": "code",
   "execution_count": 145,
   "metadata": {},
   "outputs": [],
   "source": [
    "CHARS2 = [\n",
    "    '0', '1', '2', '3', '4', '5', '6', '7', '8', '9',\n",
    "    'A', 'B', 'C', 'D', 'E', 'F', 'G', 'H', 'I', 'J', \n",
    "    'K', 'L', 'M', 'N', 'O', 'P', 'Q', 'R', 'S', 'T', \n",
    "    'U', 'V', 'W', 'X', 'Y', 'Z', ' ', ' '\n",
    "] * 2"
   ]
  },
  {
   "cell_type": "code",
   "execution_count": 146,
   "metadata": {},
   "outputs": [
    {
     "name": "stdout",
     "output_type": "stream",
     "text": [
      "75\n",
      "74\n",
      "73\n",
      "72\n",
      "71\n",
      "70\n",
      "69\n",
      "68\n",
      "67\n",
      "66\n",
      "65\n",
      "64\n",
      "63\n",
      "62\n",
      "61\n",
      "60\n",
      "59\n",
      "58\n",
      "57\n",
      "56\n",
      "55\n",
      "54\n",
      "53\n",
      "52\n",
      "51\n",
      "50\n",
      "49\n",
      "48\n",
      "47\n",
      "46\n",
      "45\n",
      "44\n",
      "43\n",
      "42\n",
      "41\n",
      "40\n",
      "39\n",
      "38\n"
     ]
    }
   ],
   "source": [
    "for let in CHARS2:\n",
    "    CHARS2.remove(let)\n",
    "    print(len(CHARS2))"
   ]
  },
  {
   "cell_type": "code",
   "execution_count": null,
   "metadata": {},
   "outputs": [],
   "source": []
  }
 ],
 "metadata": {
  "kernelspec": {
   "display_name": "Python 3.9.7 ('venv-images': venv)",
   "language": "python",
   "name": "python3"
  },
  "language_info": {
   "codemirror_mode": {
    "name": "ipython",
    "version": 3
   },
   "file_extension": ".py",
   "mimetype": "text/x-python",
   "name": "python",
   "nbconvert_exporter": "python",
   "pygments_lexer": "ipython3",
   "version": "3.9.7"
  },
  "orig_nbformat": 4,
  "vscode": {
   "interpreter": {
    "hash": "7ea01e15fc86add062113276bf835a6ebc9874429417b41dc07b6ec0a197ef57"
   }
  }
 },
 "nbformat": 4,
 "nbformat_minor": 2
}
